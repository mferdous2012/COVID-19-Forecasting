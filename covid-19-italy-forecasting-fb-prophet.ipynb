{
 "cells": [
  {
   "cell_type": "markdown",
   "metadata": {},
   "source": [
    "# COVID-19 Italy Confirmed Cases and Fatalities Forecasting"
   ]
  },
  {
   "cell_type": "markdown",
   "metadata": {},
   "source": [
    "**In this notebook, the model will be predicting the cumulative number of confirmed COVID19 cases in Italy, as well as the number of resulting fatalities, for future dates. We understand this is a serious situation, and in no way want to trivialize the human impact this crisis is causing by predicting fatalities. Our goal is to provide better methods for estimates that can assist medical and governmental institutions to prepare and adjust as pandemics unfold. In this particular notebook popular facebook Prophet algorithm used.**"
   ]
  },
  {
   "cell_type": "code",
   "execution_count": 1,
   "metadata": {},
   "outputs": [],
   "source": [
    "import warnings\n",
    "warnings.filterwarnings('ignore')"
   ]
  },
  {
   "cell_type": "code",
   "execution_count": 2,
   "metadata": {
    "_cell_guid": "b1076dfc-b9ad-4769-8c92-a6c4dae69d19",
    "_uuid": "8f2839f25d086af736a60e9eeb907d3b93b6e0e5"
   },
   "outputs": [
    {
     "name": "stdout",
     "output_type": "stream",
     "text": [
      "/kaggle/input/covid19-global-forecasting-week-3/submission.csv\n",
      "/kaggle/input/covid19-global-forecasting-week-3/test.csv\n",
      "/kaggle/input/covid19-global-forecasting-week-3/train.csv\n"
     ]
    }
   ],
   "source": [
    "# This Python 3 environment comes with many helpful analytics libraries installed\n",
    "# It is defined by the kaggle/python docker image: https://github.com/kaggle/docker-python\n",
    "# For example, here's several helpful packages to load in \n",
    "\n",
    "import numpy as np # linear algebra\n",
    "import pandas as pd # data processing, CSV file I/O (e.g. pd.read_csv)\n",
    "\n",
    "# Input data files are available in the \"../input/\" directory.\n",
    "# For example, running this (by clicking run or pressing Shift+Enter) will list all files under the input directory\n",
    "\n",
    "import os\n",
    "for dirname, _, filenames in os.walk('/kaggle/input'):\n",
    "    for filename in filenames:\n",
    "        print(os.path.join(dirname, filename))\n",
    "\n",
    "# Any results you write to the current directory are saved as output."
   ]
  },
  {
   "cell_type": "markdown",
   "metadata": {},
   "source": [
    "**Loading Total Data**"
   ]
  },
  {
   "cell_type": "code",
   "execution_count": 3,
   "metadata": {
    "_cell_guid": "79c7e3d0-c299-4dcb-8224-4455121ee9b0",
    "_uuid": "d629ff2d2480ee46fbb7e2d37f6b5fab8052498a"
   },
   "outputs": [
    {
     "data": {
      "text/html": [
       "<div>\n",
       "<style scoped>\n",
       "    .dataframe tbody tr th:only-of-type {\n",
       "        vertical-align: middle;\n",
       "    }\n",
       "\n",
       "    .dataframe tbody tr th {\n",
       "        vertical-align: top;\n",
       "    }\n",
       "\n",
       "    .dataframe thead th {\n",
       "        text-align: right;\n",
       "    }\n",
       "</style>\n",
       "<table border=\"1\" class=\"dataframe\">\n",
       "  <thead>\n",
       "    <tr style=\"text-align: right;\">\n",
       "      <th></th>\n",
       "      <th>Id</th>\n",
       "      <th>Province_State</th>\n",
       "      <th>Country_Region</th>\n",
       "      <th>Date</th>\n",
       "      <th>ConfirmedCases</th>\n",
       "      <th>Fatalities</th>\n",
       "    </tr>\n",
       "  </thead>\n",
       "  <tbody>\n",
       "    <tr>\n",
       "      <th>23557</th>\n",
       "      <td>32708</td>\n",
       "      <td>NaN</td>\n",
       "      <td>Zimbabwe</td>\n",
       "      <td>2020-04-03</td>\n",
       "      <td>9.0</td>\n",
       "      <td>1.0</td>\n",
       "    </tr>\n",
       "    <tr>\n",
       "      <th>23558</th>\n",
       "      <td>32709</td>\n",
       "      <td>NaN</td>\n",
       "      <td>Zimbabwe</td>\n",
       "      <td>2020-04-04</td>\n",
       "      <td>9.0</td>\n",
       "      <td>1.0</td>\n",
       "    </tr>\n",
       "    <tr>\n",
       "      <th>23559</th>\n",
       "      <td>32710</td>\n",
       "      <td>NaN</td>\n",
       "      <td>Zimbabwe</td>\n",
       "      <td>2020-04-05</td>\n",
       "      <td>9.0</td>\n",
       "      <td>1.0</td>\n",
       "    </tr>\n",
       "    <tr>\n",
       "      <th>23560</th>\n",
       "      <td>32711</td>\n",
       "      <td>NaN</td>\n",
       "      <td>Zimbabwe</td>\n",
       "      <td>2020-04-06</td>\n",
       "      <td>10.0</td>\n",
       "      <td>1.0</td>\n",
       "    </tr>\n",
       "    <tr>\n",
       "      <th>23561</th>\n",
       "      <td>32712</td>\n",
       "      <td>NaN</td>\n",
       "      <td>Zimbabwe</td>\n",
       "      <td>2020-04-07</td>\n",
       "      <td>11.0</td>\n",
       "      <td>2.0</td>\n",
       "    </tr>\n",
       "  </tbody>\n",
       "</table>\n",
       "</div>"
      ],
      "text/plain": [
       "          Id Province_State Country_Region        Date  ConfirmedCases  \\\n",
       "23557  32708            NaN       Zimbabwe  2020-04-03             9.0   \n",
       "23558  32709            NaN       Zimbabwe  2020-04-04             9.0   \n",
       "23559  32710            NaN       Zimbabwe  2020-04-05             9.0   \n",
       "23560  32711            NaN       Zimbabwe  2020-04-06            10.0   \n",
       "23561  32712            NaN       Zimbabwe  2020-04-07            11.0   \n",
       "\n",
       "       Fatalities  \n",
       "23557         1.0  \n",
       "23558         1.0  \n",
       "23559         1.0  \n",
       "23560         1.0  \n",
       "23561         2.0  "
      ]
     },
     "execution_count": 3,
     "metadata": {},
     "output_type": "execute_result"
    }
   ],
   "source": [
    "train=pd.read_csv('/kaggle/input/covid19-global-forecasting-week-3/train.csv')\n",
    "train.tail()"
   ]
  },
  {
   "cell_type": "markdown",
   "metadata": {},
   "source": [
    "**Seperate Italy Data**"
   ]
  },
  {
   "cell_type": "code",
   "execution_count": 4,
   "metadata": {},
   "outputs": [
    {
     "data": {
      "text/html": [
       "<div>\n",
       "<style scoped>\n",
       "    .dataframe tbody tr th:only-of-type {\n",
       "        vertical-align: middle;\n",
       "    }\n",
       "\n",
       "    .dataframe tbody tr th {\n",
       "        vertical-align: top;\n",
       "    }\n",
       "\n",
       "    .dataframe thead th {\n",
       "        text-align: right;\n",
       "    }\n",
       "</style>\n",
       "<table border=\"1\" class=\"dataframe\">\n",
       "  <thead>\n",
       "    <tr style=\"text-align: right;\">\n",
       "      <th></th>\n",
       "      <th>Id</th>\n",
       "      <th>Province_State</th>\n",
       "      <th>Country_Region</th>\n",
       "      <th>Date</th>\n",
       "      <th>ConfirmedCases</th>\n",
       "      <th>Fatalities</th>\n",
       "    </tr>\n",
       "  </thead>\n",
       "  <tbody>\n",
       "    <tr>\n",
       "      <th>11165</th>\n",
       "      <td>15516</td>\n",
       "      <td>NaN</td>\n",
       "      <td>Italy</td>\n",
       "      <td>2020-01-22</td>\n",
       "      <td>0.0</td>\n",
       "      <td>0.0</td>\n",
       "    </tr>\n",
       "    <tr>\n",
       "      <th>11166</th>\n",
       "      <td>15517</td>\n",
       "      <td>NaN</td>\n",
       "      <td>Italy</td>\n",
       "      <td>2020-01-23</td>\n",
       "      <td>0.0</td>\n",
       "      <td>0.0</td>\n",
       "    </tr>\n",
       "    <tr>\n",
       "      <th>11167</th>\n",
       "      <td>15518</td>\n",
       "      <td>NaN</td>\n",
       "      <td>Italy</td>\n",
       "      <td>2020-01-24</td>\n",
       "      <td>0.0</td>\n",
       "      <td>0.0</td>\n",
       "    </tr>\n",
       "    <tr>\n",
       "      <th>11168</th>\n",
       "      <td>15519</td>\n",
       "      <td>NaN</td>\n",
       "      <td>Italy</td>\n",
       "      <td>2020-01-25</td>\n",
       "      <td>0.0</td>\n",
       "      <td>0.0</td>\n",
       "    </tr>\n",
       "    <tr>\n",
       "      <th>11169</th>\n",
       "      <td>15520</td>\n",
       "      <td>NaN</td>\n",
       "      <td>Italy</td>\n",
       "      <td>2020-01-26</td>\n",
       "      <td>0.0</td>\n",
       "      <td>0.0</td>\n",
       "    </tr>\n",
       "    <tr>\n",
       "      <th>...</th>\n",
       "      <td>...</td>\n",
       "      <td>...</td>\n",
       "      <td>...</td>\n",
       "      <td>...</td>\n",
       "      <td>...</td>\n",
       "      <td>...</td>\n",
       "    </tr>\n",
       "    <tr>\n",
       "      <th>11237</th>\n",
       "      <td>15588</td>\n",
       "      <td>NaN</td>\n",
       "      <td>Italy</td>\n",
       "      <td>2020-04-03</td>\n",
       "      <td>119827.0</td>\n",
       "      <td>14681.0</td>\n",
       "    </tr>\n",
       "    <tr>\n",
       "      <th>11238</th>\n",
       "      <td>15589</td>\n",
       "      <td>NaN</td>\n",
       "      <td>Italy</td>\n",
       "      <td>2020-04-04</td>\n",
       "      <td>124632.0</td>\n",
       "      <td>15362.0</td>\n",
       "    </tr>\n",
       "    <tr>\n",
       "      <th>11239</th>\n",
       "      <td>15590</td>\n",
       "      <td>NaN</td>\n",
       "      <td>Italy</td>\n",
       "      <td>2020-04-05</td>\n",
       "      <td>128948.0</td>\n",
       "      <td>15887.0</td>\n",
       "    </tr>\n",
       "    <tr>\n",
       "      <th>11240</th>\n",
       "      <td>15591</td>\n",
       "      <td>NaN</td>\n",
       "      <td>Italy</td>\n",
       "      <td>2020-04-06</td>\n",
       "      <td>132547.0</td>\n",
       "      <td>16523.0</td>\n",
       "    </tr>\n",
       "    <tr>\n",
       "      <th>11241</th>\n",
       "      <td>15592</td>\n",
       "      <td>NaN</td>\n",
       "      <td>Italy</td>\n",
       "      <td>2020-04-07</td>\n",
       "      <td>135586.0</td>\n",
       "      <td>17127.0</td>\n",
       "    </tr>\n",
       "  </tbody>\n",
       "</table>\n",
       "<p>77 rows × 6 columns</p>\n",
       "</div>"
      ],
      "text/plain": [
       "          Id Province_State Country_Region        Date  ConfirmedCases  \\\n",
       "11165  15516            NaN          Italy  2020-01-22             0.0   \n",
       "11166  15517            NaN          Italy  2020-01-23             0.0   \n",
       "11167  15518            NaN          Italy  2020-01-24             0.0   \n",
       "11168  15519            NaN          Italy  2020-01-25             0.0   \n",
       "11169  15520            NaN          Italy  2020-01-26             0.0   \n",
       "...      ...            ...            ...         ...             ...   \n",
       "11237  15588            NaN          Italy  2020-04-03        119827.0   \n",
       "11238  15589            NaN          Italy  2020-04-04        124632.0   \n",
       "11239  15590            NaN          Italy  2020-04-05        128948.0   \n",
       "11240  15591            NaN          Italy  2020-04-06        132547.0   \n",
       "11241  15592            NaN          Italy  2020-04-07        135586.0   \n",
       "\n",
       "       Fatalities  \n",
       "11165         0.0  \n",
       "11166         0.0  \n",
       "11167         0.0  \n",
       "11168         0.0  \n",
       "11169         0.0  \n",
       "...           ...  \n",
       "11237     14681.0  \n",
       "11238     15362.0  \n",
       "11239     15887.0  \n",
       "11240     16523.0  \n",
       "11241     17127.0  \n",
       "\n",
       "[77 rows x 6 columns]"
      ]
     },
     "execution_count": 4,
     "metadata": {},
     "output_type": "execute_result"
    }
   ],
   "source": [
    "country=train[(train.Country_Region=='Italy')]\n",
    "country"
   ]
  },
  {
   "cell_type": "markdown",
   "metadata": {},
   "source": [
    "**Confirmed Cases Forecasting**"
   ]
  },
  {
   "cell_type": "code",
   "execution_count": 5,
   "metadata": {},
   "outputs": [
    {
     "data": {
      "text/html": [
       "<div>\n",
       "<style scoped>\n",
       "    .dataframe tbody tr th:only-of-type {\n",
       "        vertical-align: middle;\n",
       "    }\n",
       "\n",
       "    .dataframe tbody tr th {\n",
       "        vertical-align: top;\n",
       "    }\n",
       "\n",
       "    .dataframe thead th {\n",
       "        text-align: right;\n",
       "    }\n",
       "</style>\n",
       "<table border=\"1\" class=\"dataframe\">\n",
       "  <thead>\n",
       "    <tr style=\"text-align: right;\">\n",
       "      <th></th>\n",
       "      <th>ds</th>\n",
       "      <th>y</th>\n",
       "    </tr>\n",
       "  </thead>\n",
       "  <tbody>\n",
       "    <tr>\n",
       "      <th>11165</th>\n",
       "      <td>2020-01-22</td>\n",
       "      <td>0.0</td>\n",
       "    </tr>\n",
       "    <tr>\n",
       "      <th>11166</th>\n",
       "      <td>2020-01-23</td>\n",
       "      <td>0.0</td>\n",
       "    </tr>\n",
       "    <tr>\n",
       "      <th>11167</th>\n",
       "      <td>2020-01-24</td>\n",
       "      <td>0.0</td>\n",
       "    </tr>\n",
       "    <tr>\n",
       "      <th>11168</th>\n",
       "      <td>2020-01-25</td>\n",
       "      <td>0.0</td>\n",
       "    </tr>\n",
       "    <tr>\n",
       "      <th>11169</th>\n",
       "      <td>2020-01-26</td>\n",
       "      <td>0.0</td>\n",
       "    </tr>\n",
       "  </tbody>\n",
       "</table>\n",
       "</div>"
      ],
      "text/plain": [
       "               ds    y\n",
       "11165  2020-01-22  0.0\n",
       "11166  2020-01-23  0.0\n",
       "11167  2020-01-24  0.0\n",
       "11168  2020-01-25  0.0\n",
       "11169  2020-01-26  0.0"
      ]
     },
     "execution_count": 5,
     "metadata": {},
     "output_type": "execute_result"
    }
   ],
   "source": [
    "country_cc=country[['Date','ConfirmedCases']]\n",
    "country_cc['ds']=country_cc['Date']\n",
    "country_cc['y']=country_cc['ConfirmedCases']\n",
    "country_cc.drop(columns=['Date','ConfirmedCases'], inplace=True)\n",
    "country_cc.head()"
   ]
  },
  {
   "cell_type": "code",
   "execution_count": 6,
   "metadata": {},
   "outputs": [
    {
     "data": {
      "text/plain": [
       "<fbprophet.forecaster.Prophet at 0x7f26c4fd17f0>"
      ]
     },
     "execution_count": 6,
     "metadata": {},
     "output_type": "execute_result"
    }
   ],
   "source": [
    "from fbprophet import Prophet\n",
    "model_cc=Prophet()\n",
    "model_cc.fit(country_cc)"
   ]
  },
  {
   "cell_type": "code",
   "execution_count": 7,
   "metadata": {},
   "outputs": [
    {
     "data": {
      "text/html": [
       "<div>\n",
       "<style scoped>\n",
       "    .dataframe tbody tr th:only-of-type {\n",
       "        vertical-align: middle;\n",
       "    }\n",
       "\n",
       "    .dataframe tbody tr th {\n",
       "        vertical-align: top;\n",
       "    }\n",
       "\n",
       "    .dataframe thead th {\n",
       "        text-align: right;\n",
       "    }\n",
       "</style>\n",
       "<table border=\"1\" class=\"dataframe\">\n",
       "  <thead>\n",
       "    <tr style=\"text-align: right;\">\n",
       "      <th></th>\n",
       "      <th>ds</th>\n",
       "    </tr>\n",
       "  </thead>\n",
       "  <tbody>\n",
       "    <tr>\n",
       "      <th>0</th>\n",
       "      <td>2020-01-22</td>\n",
       "    </tr>\n",
       "    <tr>\n",
       "      <th>1</th>\n",
       "      <td>2020-01-23</td>\n",
       "    </tr>\n",
       "    <tr>\n",
       "      <th>2</th>\n",
       "      <td>2020-01-24</td>\n",
       "    </tr>\n",
       "    <tr>\n",
       "      <th>3</th>\n",
       "      <td>2020-01-25</td>\n",
       "    </tr>\n",
       "    <tr>\n",
       "      <th>4</th>\n",
       "      <td>2020-01-26</td>\n",
       "    </tr>\n",
       "  </tbody>\n",
       "</table>\n",
       "</div>"
      ],
      "text/plain": [
       "          ds\n",
       "0 2020-01-22\n",
       "1 2020-01-23\n",
       "2 2020-01-24\n",
       "3 2020-01-25\n",
       "4 2020-01-26"
      ]
     },
     "execution_count": 7,
     "metadata": {},
     "output_type": "execute_result"
    }
   ],
   "source": [
    "future = model_cc.make_future_dataframe(periods=100)\n",
    "future.head()"
   ]
  },
  {
   "cell_type": "code",
   "execution_count": 8,
   "metadata": {},
   "outputs": [
    {
     "data": {
      "text/html": [
       "<div>\n",
       "<style scoped>\n",
       "    .dataframe tbody tr th:only-of-type {\n",
       "        vertical-align: middle;\n",
       "    }\n",
       "\n",
       "    .dataframe tbody tr th {\n",
       "        vertical-align: top;\n",
       "    }\n",
       "\n",
       "    .dataframe thead th {\n",
       "        text-align: right;\n",
       "    }\n",
       "</style>\n",
       "<table border=\"1\" class=\"dataframe\">\n",
       "  <thead>\n",
       "    <tr style=\"text-align: right;\">\n",
       "      <th></th>\n",
       "      <th>ds</th>\n",
       "      <th>trend</th>\n",
       "      <th>yhat_lower</th>\n",
       "      <th>yhat_upper</th>\n",
       "      <th>trend_lower</th>\n",
       "      <th>trend_upper</th>\n",
       "      <th>additive_terms</th>\n",
       "      <th>additive_terms_lower</th>\n",
       "      <th>additive_terms_upper</th>\n",
       "      <th>weekly</th>\n",
       "      <th>weekly_lower</th>\n",
       "      <th>weekly_upper</th>\n",
       "      <th>multiplicative_terms</th>\n",
       "      <th>multiplicative_terms_lower</th>\n",
       "      <th>multiplicative_terms_upper</th>\n",
       "      <th>yhat</th>\n",
       "    </tr>\n",
       "  </thead>\n",
       "  <tbody>\n",
       "    <tr>\n",
       "      <th>172</th>\n",
       "      <td>2020-07-12</td>\n",
       "      <td>621732.285157</td>\n",
       "      <td>492357.862411</td>\n",
       "      <td>751439.598622</td>\n",
       "      <td>492023.705340</td>\n",
       "      <td>750969.385727</td>\n",
       "      <td>231.715018</td>\n",
       "      <td>231.715018</td>\n",
       "      <td>231.715018</td>\n",
       "      <td>231.715018</td>\n",
       "      <td>231.715018</td>\n",
       "      <td>231.715018</td>\n",
       "      <td>0.0</td>\n",
       "      <td>0.0</td>\n",
       "      <td>0.0</td>\n",
       "      <td>621964.000175</td>\n",
       "    </tr>\n",
       "    <tr>\n",
       "      <th>173</th>\n",
       "      <td>2020-07-13</td>\n",
       "      <td>626753.014291</td>\n",
       "      <td>495120.631960</td>\n",
       "      <td>756918.329346</td>\n",
       "      <td>495138.062197</td>\n",
       "      <td>757655.372847</td>\n",
       "      <td>-53.220014</td>\n",
       "      <td>-53.220014</td>\n",
       "      <td>-53.220014</td>\n",
       "      <td>-53.220014</td>\n",
       "      <td>-53.220014</td>\n",
       "      <td>-53.220014</td>\n",
       "      <td>0.0</td>\n",
       "      <td>0.0</td>\n",
       "      <td>0.0</td>\n",
       "      <td>626699.794277</td>\n",
       "    </tr>\n",
       "    <tr>\n",
       "      <th>174</th>\n",
       "      <td>2020-07-14</td>\n",
       "      <td>631773.743426</td>\n",
       "      <td>498729.108313</td>\n",
       "      <td>763954.339984</td>\n",
       "      <td>498008.064215</td>\n",
       "      <td>764165.698983</td>\n",
       "      <td>-382.017762</td>\n",
       "      <td>-382.017762</td>\n",
       "      <td>-382.017762</td>\n",
       "      <td>-382.017762</td>\n",
       "      <td>-382.017762</td>\n",
       "      <td>-382.017762</td>\n",
       "      <td>0.0</td>\n",
       "      <td>0.0</td>\n",
       "      <td>0.0</td>\n",
       "      <td>631391.725663</td>\n",
       "    </tr>\n",
       "    <tr>\n",
       "      <th>175</th>\n",
       "      <td>2020-07-15</td>\n",
       "      <td>636794.472560</td>\n",
       "      <td>501979.986419</td>\n",
       "      <td>771681.708020</td>\n",
       "      <td>501370.465255</td>\n",
       "      <td>770833.117814</td>\n",
       "      <td>-46.954451</td>\n",
       "      <td>-46.954451</td>\n",
       "      <td>-46.954451</td>\n",
       "      <td>-46.954451</td>\n",
       "      <td>-46.954451</td>\n",
       "      <td>-46.954451</td>\n",
       "      <td>0.0</td>\n",
       "      <td>0.0</td>\n",
       "      <td>0.0</td>\n",
       "      <td>636747.518109</td>\n",
       "    </tr>\n",
       "    <tr>\n",
       "      <th>176</th>\n",
       "      <td>2020-07-16</td>\n",
       "      <td>641815.201694</td>\n",
       "      <td>504699.336849</td>\n",
       "      <td>778627.366188</td>\n",
       "      <td>504214.664419</td>\n",
       "      <td>778588.964523</td>\n",
       "      <td>-100.486384</td>\n",
       "      <td>-100.486384</td>\n",
       "      <td>-100.486384</td>\n",
       "      <td>-100.486384</td>\n",
       "      <td>-100.486384</td>\n",
       "      <td>-100.486384</td>\n",
       "      <td>0.0</td>\n",
       "      <td>0.0</td>\n",
       "      <td>0.0</td>\n",
       "      <td>641714.715310</td>\n",
       "    </tr>\n",
       "  </tbody>\n",
       "</table>\n",
       "</div>"
      ],
      "text/plain": [
       "            ds          trend     yhat_lower     yhat_upper    trend_lower  \\\n",
       "172 2020-07-12  621732.285157  492357.862411  751439.598622  492023.705340   \n",
       "173 2020-07-13  626753.014291  495120.631960  756918.329346  495138.062197   \n",
       "174 2020-07-14  631773.743426  498729.108313  763954.339984  498008.064215   \n",
       "175 2020-07-15  636794.472560  501979.986419  771681.708020  501370.465255   \n",
       "176 2020-07-16  641815.201694  504699.336849  778627.366188  504214.664419   \n",
       "\n",
       "       trend_upper  additive_terms  additive_terms_lower  \\\n",
       "172  750969.385727      231.715018            231.715018   \n",
       "173  757655.372847      -53.220014            -53.220014   \n",
       "174  764165.698983     -382.017762           -382.017762   \n",
       "175  770833.117814      -46.954451            -46.954451   \n",
       "176  778588.964523     -100.486384           -100.486384   \n",
       "\n",
       "     additive_terms_upper      weekly  weekly_lower  weekly_upper  \\\n",
       "172            231.715018  231.715018    231.715018    231.715018   \n",
       "173            -53.220014  -53.220014    -53.220014    -53.220014   \n",
       "174           -382.017762 -382.017762   -382.017762   -382.017762   \n",
       "175            -46.954451  -46.954451    -46.954451    -46.954451   \n",
       "176           -100.486384 -100.486384   -100.486384   -100.486384   \n",
       "\n",
       "     multiplicative_terms  multiplicative_terms_lower  \\\n",
       "172                   0.0                         0.0   \n",
       "173                   0.0                         0.0   \n",
       "174                   0.0                         0.0   \n",
       "175                   0.0                         0.0   \n",
       "176                   0.0                         0.0   \n",
       "\n",
       "     multiplicative_terms_upper           yhat  \n",
       "172                         0.0  621964.000175  \n",
       "173                         0.0  626699.794277  \n",
       "174                         0.0  631391.725663  \n",
       "175                         0.0  636747.518109  \n",
       "176                         0.0  641714.715310  "
      ]
     },
     "execution_count": 8,
     "metadata": {},
     "output_type": "execute_result"
    }
   ],
   "source": [
    "forecast=model_cc.predict(future)\n",
    "forecast.tail(5)"
   ]
  },
  {
   "cell_type": "code",
   "execution_count": 9,
   "metadata": {},
   "outputs": [
    {
     "data": {
      "image/png": "[encoded data removed]",
      "text/plain": [
       "<Figure size 720x432 with 1 Axes>"
      ]
     },
     "metadata": {},
     "output_type": "display_data"
    }
   ],
   "source": [
    "fig_Confirmed = model_cc.plot(forecast,xlabel = \"Date\",ylabel = \"Confirmed\")"
   ]
  },
  {
   "cell_type": "markdown",
   "metadata": {},
   "source": [
    "**Fatalities Forecasting**"
   ]
  },
  {
   "cell_type": "code",
   "execution_count": 10,
   "metadata": {},
   "outputs": [
    {
     "data": {
      "text/html": [
       "<div>\n",
       "<style scoped>\n",
       "    .dataframe tbody tr th:only-of-type {\n",
       "        vertical-align: middle;\n",
       "    }\n",
       "\n",
       "    .dataframe tbody tr th {\n",
       "        vertical-align: top;\n",
       "    }\n",
       "\n",
       "    .dataframe thead th {\n",
       "        text-align: right;\n",
       "    }\n",
       "</style>\n",
       "<table border=\"1\" class=\"dataframe\">\n",
       "  <thead>\n",
       "    <tr style=\"text-align: right;\">\n",
       "      <th></th>\n",
       "      <th>ds</th>\n",
       "      <th>y</th>\n",
       "    </tr>\n",
       "  </thead>\n",
       "  <tbody>\n",
       "    <tr>\n",
       "      <th>11165</th>\n",
       "      <td>2020-01-22</td>\n",
       "      <td>0.0</td>\n",
       "    </tr>\n",
       "    <tr>\n",
       "      <th>11166</th>\n",
       "      <td>2020-01-23</td>\n",
       "      <td>0.0</td>\n",
       "    </tr>\n",
       "    <tr>\n",
       "      <th>11167</th>\n",
       "      <td>2020-01-24</td>\n",
       "      <td>0.0</td>\n",
       "    </tr>\n",
       "    <tr>\n",
       "      <th>11168</th>\n",
       "      <td>2020-01-25</td>\n",
       "      <td>0.0</td>\n",
       "    </tr>\n",
       "    <tr>\n",
       "      <th>11169</th>\n",
       "      <td>2020-01-26</td>\n",
       "      <td>0.0</td>\n",
       "    </tr>\n",
       "  </tbody>\n",
       "</table>\n",
       "</div>"
      ],
      "text/plain": [
       "               ds    y\n",
       "11165  2020-01-22  0.0\n",
       "11166  2020-01-23  0.0\n",
       "11167  2020-01-24  0.0\n",
       "11168  2020-01-25  0.0\n",
       "11169  2020-01-26  0.0"
      ]
     },
     "execution_count": 10,
     "metadata": {},
     "output_type": "execute_result"
    }
   ],
   "source": [
    "country_ft=country[['Date','Fatalities']]\n",
    "country_ft['ds']=country_ft['Date']\n",
    "country_ft['y']=country_ft['Fatalities']\n",
    "country_ft.drop(columns=['Date','Fatalities'], inplace=True)\n",
    "country_ft.head()"
   ]
  },
  {
   "cell_type": "code",
   "execution_count": 11,
   "metadata": {},
   "outputs": [
    {
     "data": {
      "text/plain": [
       "<fbprophet.forecaster.Prophet at 0x7f26c1c5b588>"
      ]
     },
     "execution_count": 11,
     "metadata": {},
     "output_type": "execute_result"
    }
   ],
   "source": [
    "from fbprophet import Prophet\n",
    "model_ft=Prophet()\n",
    "model_ft.fit(country_ft)"
   ]
  },
  {
   "cell_type": "code",
   "execution_count": 12,
   "metadata": {},
   "outputs": [],
   "source": [
    "future = model_ft.make_future_dataframe(periods=100)\n",
    "forecast=model_ft.predict(future)"
   ]
  },
  {
   "cell_type": "code",
   "execution_count": 13,
   "metadata": {},
   "outputs": [
    {
     "data": {
      "image/png": "[encoded data removed]",
      "text/plain": [
       "<Figure size 720x432 with 1 Axes>"
      ]
     },
     "metadata": {},
     "output_type": "display_data"
    }
   ],
   "source": [
    "fig_Fatalities = model_ft.plot(forecast,xlabel = \"Date\",ylabel = \"Deaths\")"
   ]
  },
  {
   "cell_type": "markdown",
   "metadata": {},
   "source": [
    "**#StayHome #StaySafe #May Almighty bless us All**"
   ]
  },
  {
   "cell_type": "markdown",
   "metadata": {},
   "source": [
    "**Please upvote if you like this or find this notebook useful, thanks.**"
   ]
  }
 ],
 "metadata": {
  "kernelspec": {
   "display_name": "Python 3",
   "language": "python",
   "name": "python3"
  },
  "language_info": {
   "codemirror_mode": {
    "name": "ipython",
    "version": 3
   },
   "file_extension": ".py",
   "mimetype": "text/x-python",
   "name": "python",
   "nbconvert_exporter": "python",
   "pygments_lexer": "ipython3",
   "version": "3.6.6"
  }
 },
 "nbformat": 4,
 "nbformat_minor": 4
}
